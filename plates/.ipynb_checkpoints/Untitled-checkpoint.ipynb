{
 "cells": [
  {
   "cell_type": "code",
   "execution_count": null,
   "metadata": {},
   "outputs": [],
   "source": [
    "import os\n",
    "from PIL import Image\n",
    "\n",
    "directory = \"/home/fizzer/Desktop/353_ws/plates/\"\n",
    "\n",
    "for filename in os.listdir(directory):\n",
    "    if filename.startswith(\"parking\"):\n",
    "        image = Image.open(filename)\n",
    "        image.show()\n",
    "\n",
    "        print(\"Old name: \", filename)\n",
    "        new_name = input(\"What is the parking number (Format P00, for invalid type No): \")\n",
    "        os.rename(filename, new_name)\n",
    "\n",
    "    elif filename.startswith(\"license\"): \n",
    "        image = Image.open(filename)\n",
    "        image.show()\n",
    "        \n",
    "        print(\"Old name: \", filename)\n",
    "        new_name = input(\"What is the license number (Format 0000, for invalid type No): \")\n",
    "        os.rename(filename, new_name)\n",
    "        \n",
    "    else:\n",
    "        continue"
   ]
  }
 ],
 "metadata": {
  "kernelspec": {
   "display_name": "Python 3.6.9 64-bit",
   "language": "python",
   "name": "python36964bit3dd1de56b11441b79a5498c8bfb5d729"
  },
  "language_info": {
   "codemirror_mode": {
    "name": "ipython",
    "version": 3
   },
   "file_extension": ".py",
   "mimetype": "text/x-python",
   "name": "python",
   "nbconvert_exporter": "python",
   "pygments_lexer": "ipython3",
   "version": "3.6.9"
  }
 },
 "nbformat": 4,
 "nbformat_minor": 4
}
